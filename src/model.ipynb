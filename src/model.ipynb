{
 "cells": [
  {
   "cell_type": "code",
   "execution_count": 11,
   "id": "4986483b",
   "metadata": {},
   "outputs": [
    {
     "name": "stdout",
     "output_type": "stream",
     "text": [
      "Requirement already satisfied: matplotlib in /usr/local/lib/python3.13/site-packages (3.10.3)\n",
      "Requirement already satisfied: contourpy>=1.0.1 in /usr/local/lib/python3.13/site-packages (from matplotlib) (1.3.2)\n",
      "Requirement already satisfied: cycler>=0.10 in /usr/local/lib/python3.13/site-packages (from matplotlib) (0.12.1)\n",
      "Requirement already satisfied: fonttools>=4.22.0 in /usr/local/lib/python3.13/site-packages (from matplotlib) (4.58.2)\n",
      "Requirement already satisfied: kiwisolver>=1.3.1 in /usr/local/lib/python3.13/site-packages (from matplotlib) (1.4.8)\n",
      "Requirement already satisfied: numpy>=1.23 in /usr/local/lib/python3.13/site-packages (from matplotlib) (2.3.0)\n",
      "Requirement already satisfied: packaging>=20.0 in /root/.local/lib/python3.13/site-packages (from matplotlib) (25.0)\n",
      "Requirement already satisfied: pillow>=8 in /usr/local/lib/python3.13/site-packages (from matplotlib) (11.2.1)\n",
      "Requirement already satisfied: pyparsing>=2.3.1 in /usr/local/lib/python3.13/site-packages (from matplotlib) (3.2.3)\n",
      "Requirement already satisfied: python-dateutil>=2.7 in /usr/local/lib/python3.13/site-packages (from matplotlib) (2.9.0.post0)\n",
      "Requirement already satisfied: six>=1.5 in /usr/local/lib/python3.13/site-packages (from python-dateutil>=2.7->matplotlib) (1.17.0)\n",
      "\u001b[33mWARNING: Running pip as the 'root' user can result in broken permissions and conflicting behaviour with the system package manager, possibly rendering your system unusable. It is recommended to use a virtual environment instead: https://pip.pypa.io/warnings/venv. Use the --root-user-action option if you know what you are doing and want to suppress this warning.\u001b[0m\u001b[33m\n",
      "\u001b[0mRequirement already satisfied: seaborn in /usr/local/lib/python3.13/site-packages (0.13.2)\n",
      "Requirement already satisfied: numpy!=1.24.0,>=1.20 in /usr/local/lib/python3.13/site-packages (from seaborn) (2.3.0)\n",
      "Requirement already satisfied: pandas>=1.2 in /usr/local/lib/python3.13/site-packages (from seaborn) (2.3.0)\n",
      "Requirement already satisfied: matplotlib!=3.6.1,>=3.4 in /usr/local/lib/python3.13/site-packages (from seaborn) (3.10.3)\n",
      "Requirement already satisfied: contourpy>=1.0.1 in /usr/local/lib/python3.13/site-packages (from matplotlib!=3.6.1,>=3.4->seaborn) (1.3.2)\n",
      "Requirement already satisfied: cycler>=0.10 in /usr/local/lib/python3.13/site-packages (from matplotlib!=3.6.1,>=3.4->seaborn) (0.12.1)\n",
      "Requirement already satisfied: fonttools>=4.22.0 in /usr/local/lib/python3.13/site-packages (from matplotlib!=3.6.1,>=3.4->seaborn) (4.58.2)\n",
      "Requirement already satisfied: kiwisolver>=1.3.1 in /usr/local/lib/python3.13/site-packages (from matplotlib!=3.6.1,>=3.4->seaborn) (1.4.8)\n",
      "Requirement already satisfied: packaging>=20.0 in /root/.local/lib/python3.13/site-packages (from matplotlib!=3.6.1,>=3.4->seaborn) (25.0)\n",
      "Requirement already satisfied: pillow>=8 in /usr/local/lib/python3.13/site-packages (from matplotlib!=3.6.1,>=3.4->seaborn) (11.2.1)\n",
      "Requirement already satisfied: pyparsing>=2.3.1 in /usr/local/lib/python3.13/site-packages (from matplotlib!=3.6.1,>=3.4->seaborn) (3.2.3)\n",
      "Requirement already satisfied: python-dateutil>=2.7 in /usr/local/lib/python3.13/site-packages (from matplotlib!=3.6.1,>=3.4->seaborn) (2.9.0.post0)\n",
      "Requirement already satisfied: pytz>=2020.1 in /usr/local/lib/python3.13/site-packages (from pandas>=1.2->seaborn) (2025.2)\n",
      "Requirement already satisfied: tzdata>=2022.7 in /usr/local/lib/python3.13/site-packages (from pandas>=1.2->seaborn) (2025.2)\n",
      "Requirement already satisfied: six>=1.5 in /usr/local/lib/python3.13/site-packages (from python-dateutil>=2.7->matplotlib!=3.6.1,>=3.4->seaborn) (1.17.0)\n",
      "\u001b[33mWARNING: Running pip as the 'root' user can result in broken permissions and conflicting behaviour with the system package manager, possibly rendering your system unusable. It is recommended to use a virtual environment instead: https://pip.pypa.io/warnings/venv. Use the --root-user-action option if you know what you are doing and want to suppress this warning.\u001b[0m\u001b[33m\n",
      "\u001b[0mRequirement already satisfied: scikit-learn in /usr/local/lib/python3.13/site-packages (1.7.0)\n",
      "Requirement already satisfied: numpy>=1.22.0 in /usr/local/lib/python3.13/site-packages (from scikit-learn) (2.3.0)\n",
      "Requirement already satisfied: scipy>=1.8.0 in /usr/local/lib/python3.13/site-packages (from scikit-learn) (1.15.3)\n",
      "Requirement already satisfied: joblib>=1.2.0 in /usr/local/lib/python3.13/site-packages (from scikit-learn) (1.5.1)\n",
      "Requirement already satisfied: threadpoolctl>=3.1.0 in /usr/local/lib/python3.13/site-packages (from scikit-learn) (3.6.0)\n",
      "\u001b[33mWARNING: Running pip as the 'root' user can result in broken permissions and conflicting behaviour with the system package manager, possibly rendering your system unusable. It is recommended to use a virtual environment instead: https://pip.pypa.io/warnings/venv. Use the --root-user-action option if you know what you are doing and want to suppress this warning.\u001b[0m\u001b[33m\n",
      "\u001b[0mCollecting xgboost\n",
      "  Downloading xgboost-3.0.2-py3-none-manylinux_2_28_x86_64.whl.metadata (2.1 kB)\n",
      "Requirement already satisfied: numpy in /usr/local/lib/python3.13/site-packages (from xgboost) (2.3.0)\n",
      "Collecting nvidia-nccl-cu12 (from xgboost)\n",
      "  Downloading nvidia_nccl_cu12-2.27.3-py3-none-manylinux2014_x86_64.manylinux_2_17_x86_64.whl.metadata (2.0 kB)\n",
      "Requirement already satisfied: scipy in /usr/local/lib/python3.13/site-packages (from xgboost) (1.15.3)\n",
      "Downloading xgboost-3.0.2-py3-none-manylinux_2_28_x86_64.whl (253.9 MB)\n",
      "\u001b[2K   \u001b[90m━━━━━━━━━━━━━━━━━━━━━━━━━━━━━━━━━━━━━━━━\u001b[0m \u001b[32m253.9/253.9 MB\u001b[0m \u001b[31m12.4 MB/s\u001b[0m eta \u001b[36m0:00:00\u001b[0m00:01\u001b[0m00:01\u001b[0m\n",
      "\u001b[?25hDownloading nvidia_nccl_cu12-2.27.3-py3-none-manylinux2014_x86_64.manylinux_2_17_x86_64.whl (322.4 MB)\n",
      "\u001b[2K   \u001b[90m━━━━━━━━━━━━━━━━━━━━━━━━━━━━━━━━━━━━━━━━\u001b[0m \u001b[32m322.4/322.4 MB\u001b[0m \u001b[31m5.9 MB/s\u001b[0m eta \u001b[36m0:00:00\u001b[0m:00:01\u001b[0m00:01\u001b[0m\n",
      "\u001b[?25hInstalling collected packages: nvidia-nccl-cu12, xgboost\n",
      "\u001b[2K   \u001b[90m━━━━━━━━━━━━━━━━━━━━━━━━━━━━━━━━━━━━━━━━\u001b[0m \u001b[32m2/2\u001b[0m [xgboost]m1/2\u001b[0m [xgboost]\n",
      "\u001b[1A\u001b[2KSuccessfully installed nvidia-nccl-cu12-2.27.3 xgboost-3.0.2\n",
      "\u001b[33mWARNING: Running pip as the 'root' user can result in broken permissions and conflicting behaviour with the system package manager, possibly rendering your system unusable. It is recommended to use a virtual environment instead: https://pip.pypa.io/warnings/venv. Use the --root-user-action option if you know what you are doing and want to suppress this warning.\u001b[0m\u001b[33m\n",
      "\u001b[0m"
     ]
    }
   ],
   "source": [
    "!pip install matplotlib\n",
    "!pip install seaborn\n",
    "!pip install scikit-learn\n",
    "!pip install xgboost"
   ]
  },
  {
   "cell_type": "code",
   "execution_count": 2,
   "id": "85c5f954",
   "metadata": {},
   "outputs": [],
   "source": [
    "import pandas as pd\n",
    "import numpy as np\n",
    "import re\n",
    "import matplotlib.pyplot as plt\n",
    "import seaborn as sns\n",
    "from sklearn.model_selection import train_test_split\n",
    "from sklearn.linear_model import LinearRegression\n",
    "from sklearn import metrics\n",
    "from xgboost import XGBClassifier\n",
    "from sklearn.metrics import accuracy_score"
   ]
  },
  {
   "cell_type": "code",
   "execution_count": 3,
   "id": "7fc195a1",
   "metadata": {},
   "outputs": [],
   "source": [
    "def load_data(path):\n",
    "    df = pd.read_csv(path, sep='|')\n",
    "    df = df.dropna()\n",
    "    return df\n",
    "\n",
    "def prepare_features_linear(df):\n",
    "    X = df[[\n",
    "        'duration', 'sum_support', 'sum_nuker', 'sum_initiator', 'sum_escape',\n",
    "        'sum_durable', 'sum_disabler', 'sum_carry', 'sum_jungler', 'sum_pusher',\n",
    "        'sum_agi', 'sum_int', 'sum_str', 'sum_melee', 'sum_ranged', 'sum_kills',\n",
    "        'sum_deaths', 'sum_assists', 'mean_lasthits', 'mean_denies',\n",
    "        'sum_observers', 'sum_towers', 'mean_gold_min', 'mean_exp_min']\n",
    "    ]\n",
    "    y = df['win_True']\n",
    "    return X, y\n",
    "\n",
    "def train_linear_model(X_train, y_train):\n",
    "    model = LinearRegression()\n",
    "    model.fit(X_train, y_train)\n",
    "    return model\n",
    "\n",
    "def evaluate_linear_model(model, X_test, y_test):\n",
    "    predictions = model.predict(X_test)\n",
    "    plt.figure(figsize=(10, 4))\n",
    "    plt.subplot(1, 2, 1)\n",
    "    plt.scatter(y_test, predictions)\n",
    "    plt.title(\"Actual vs. Predicted\")\n",
    "    plt.subplot(1, 2, 2)\n",
    "    plt.hist(y_test - predictions, bins=50)\n",
    "    plt.title(\"Residuals\")\n",
    "    plt.tight_layout()\n",
    "    plt.show()\n",
    "\n",
    "    print(\"MAE:\", metrics.mean_absolute_error(y_test, predictions))\n",
    "    print(\"MSE:\", metrics.mean_squared_error(y_test, predictions))\n",
    "    print(\"RMSE:\", np.sqrt(metrics.mean_squared_error(y_test, predictions)))\n",
    "\n",
    "def prepare_features_xgb(df):\n",
    "    df['team_name'] = df['team_id']\n",
    "    df = pd.get_dummies(df, prefix='team', columns=['team_name'])\n",
    "    \n",
    "    X = df[[\n",
    "        'sum_support', 'sum_nuker', 'sum_initiator', 'sum_escape', 'sum_durable',\n",
    "        'sum_disabler', 'sum_carry', 'sum_jungler', 'sum_pusher', 'sum_agi',\n",
    "        'sum_int', 'sum_str', 'sum_melee', 'sum_ranged']\n",
    "    ]\n",
    "    y = df['win_True']\n",
    "    return df, X, y\n",
    "\n",
    "def train_xgb_with_grid_search(df, X, y, df_validation):\n",
    "    max_depths = [6, 8, 10]\n",
    "    reg_alphas = [0.5, 1.5, 2.5]\n",
    "    reg_lambdas = [1.5, 2.5, 3.5]\n",
    "    n_estimators_list = [100, 300, 500]\n",
    "\n",
    "    for depth in max_depths:\n",
    "        for alpha in reg_alphas:\n",
    "            for lam in reg_lambdas:\n",
    "                for estimators in n_estimators_list:\n",
    "                    X_train, X_test, y_train, y_test = train_test_split(X, y, test_size=0.33, random_state=7)\n",
    "                    model = XGBClassifier(\n",
    "                        max_depth=depth, reg_alpha=alpha, reg_lambda=lam,\n",
    "                        n_estimators=estimators, objective='binary:logistic',\n",
    "                        eval_metric='logloss', use_label_encoder=False\n",
    "                    )\n",
    "                    model.fit(X_train, y_train)\n",
    "\n",
    "                    pred_test = model.predict(X_test)\n",
    "                    acc_test = accuracy_score(y_test, pred_test)\n",
    "                    print(f\"Grid Search: depth={depth}, alpha={alpha}, lambda={lam}, estimators={estimators}, Test Acc={acc_test:.2%}\")\n",
    "\n",
    "                    X_val = df_validation[[\n",
    "                        'sum_support', 'sum_nuker', 'sum_initiator', 'sum_escape', 'sum_durable',\n",
    "                        'sum_disabler', 'sum_carry', 'sum_jungler', 'sum_pusher', 'sum_agi',\n",
    "                        'sum_int', 'sum_str', 'sum_melee', 'sum_ranged']\n",
    "                    ]\n",
    "                    y_val = df_validation['win_True']\n",
    "                    pred_val = model.predict(X_val)\n",
    "                    acc_val = accuracy_score(y_val, pred_val)\n",
    "                    print(f\"Validation Accuracy: {acc_val:.2%}\\n\")"
   ]
  },
  {
   "cell_type": "code",
   "execution_count": 19,
   "id": "238dd574",
   "metadata": {},
   "outputs": [],
   "source": [
    "df = load_data('../data/silver/data_transformed.csv')"
   ]
  },
  {
   "cell_type": "code",
   "execution_count": 28,
   "id": "3ab63c35",
   "metadata": {},
   "outputs": [
    {
     "data": {
      "text/plain": [
       "Index(['year', 'match_id', 'start_time', 'duration', 'sum_support',\n",
       "       'sum_nuker', 'sum_initiator', 'sum_escape', 'sum_durable',\n",
       "       'sum_disabler', 'sum_carry', 'sum_jungler', 'sum_pusher', 'sum_agi',\n",
       "       'sum_int', 'sum_str', 'sum_melee', 'sum_ranged', 'sum_kills',\n",
       "       'sum_deaths', 'sum_assists', 'mean_lasthits', 'mean_denies',\n",
       "       'sum_observers', 'sum_towers', 'mean_gold_min', 'mean_exp_min',\n",
       "       'sum_roles', 'win_False', 'win_True', 'team_id'],\n",
       "      dtype='object')"
      ]
     },
     "execution_count": 28,
     "metadata": {},
     "output_type": "execute_result"
    }
   ],
   "source": [
    "df.columns"
   ]
  },
  {
   "cell_type": "code",
   "execution_count": 21,
   "id": "2aeb93b0",
   "metadata": {},
   "outputs": [
    {
     "data": {
      "image/png": "[encoded data removed]",
      "text/plain": [
       "<Figure size 1000x400 with 2 Axes>"
      ]
     },
     "metadata": {},
     "output_type": "display_data"
    },
    {
     "name": "stdout",
     "output_type": "stream",
     "text": [
      "MAE: 0.1882102093966364\n",
      "MSE: 0.05806110277853519\n",
      "RMSE: 0.2409587159214939\n"
     ]
    }
   ],
   "source": [
    "# Linear model\n",
    "X_linear, y_linear = prepare_features_linear(df)\n",
    "X_train, X_test, y_train, y_test = train_test_split(X_linear, y_linear, test_size=0.3, random_state=42)\n",
    "linear_model = train_linear_model(X_train, y_train)\n",
    "evaluate_linear_model(linear_model, X_test, y_test)"
   ]
  },
  {
   "cell_type": "code",
   "execution_count": null,
   "id": "2efe8471",
   "metadata": {},
   "outputs": [
    {
     "name": "stdout",
     "output_type": "stream",
     "text": [
      "Accuracy: 0.5079240546053664\n",
      "[[7960 4758]\n",
      " [7786 4988]]\n",
      "              precision    recall  f1-score   support\n",
      "\n",
      "       False       0.51      0.63      0.56     12718\n",
      "        True       0.51      0.39      0.44     12774\n",
      "\n",
      "    accuracy                           0.51     25492\n",
      "   macro avg       0.51      0.51      0.50     25492\n",
      "weighted avg       0.51      0.51      0.50     25492\n",
      "\n"
     ]
    }
   ],
   "source": [
    "#Logistic Regression\n",
    "\n",
    "df_all = df.copy()  \n",
    "\n",
    "# Define features and target\n",
    "feature_cols = [\n",
    "    'sum_support', 'sum_nuker', 'sum_initiator', 'sum_escape', 'sum_durable',\n",
    "    'sum_disabler', 'sum_carry', 'sum_jungler', 'sum_pusher',\n",
    "    'sum_agi', 'sum_int', 'sum_str',\n",
    "    'sum_melee', 'sum_ranged'\n",
    "]\n",
    "\n",
    "df_validation = df_all[df_all['year'] == 2025]\n",
    "df_train = df_all[df_all['year'] != 2025]\n",
    "\n",
    "X_train = df_train[feature_cols]\n",
    "y_train = df_train['win_True']\n",
    "\n",
    "X_test = df_validation[feature_cols]\n",
    "y_test = df_validation['win_True']\n",
    "\n",
    "from sklearn.linear_model import LogisticRegression\n",
    "\n",
    "model = LogisticRegression(max_iter=2000)\n",
    "model.fit(X_train, y_train)\n",
    "\n",
    "y_pred = model.predict(X_test)\n",
    "\n",
    "# Evaluate\n",
    "from sklearn.metrics import accuracy_score, classification_report, confusion_matrix\n",
    "\n",
    "print(\"Accuracy:\", accuracy_score(y_test, y_pred))\n",
    "print(confusion_matrix(y_test, y_pred))\n",
    "print(classification_report(y_test, y_pred))\n"
   ]
  },
  {
   "cell_type": "code",
   "execution_count": 30,
   "id": "8e28afde",
   "metadata": {},
   "outputs": [
    {
     "name": "stderr",
     "output_type": "stream",
     "text": [
      "/tmp/ipykernel_36115/2667060656.py:39: SettingWithCopyWarning: \n",
      "A value is trying to be set on a copy of a slice from a DataFrame.\n",
      "Try using .loc[row_indexer,col_indexer] = value instead\n",
      "\n",
      "See the caveats in the documentation: https://pandas.pydata.org/pandas-docs/stable/user_guide/indexing.html#returning-a-view-versus-a-copy\n",
      "  df['team_name'] = df['team_id']\n"
     ]
    },
    {
     "ename": "",
     "evalue": "",
     "output_type": "error",
     "traceback": [
      "\u001b[1;31mThe Kernel crashed while executing code in the current cell or a previous cell. \n",
      "\u001b[1;31mPlease review the code in the cell(s) to identify a possible cause of the failure. \n",
      "\u001b[1;31mClick <a href='https://aka.ms/vscodeJupyterKernelCrash'>here</a> for more info. \n",
      "\u001b[1;31mView Jupyter <a href='command:jupyter.viewOutput'>log</a> for further details."
     ]
    }
   ],
   "source": [
    "# XGBoost model\n",
    "df_all, X_xgb, y_xgb = prepare_features_xgb(df)\n",
    "df_validation = df_all[df_all['year'] == 2021]\n",
    "df_train = df_all[df_all['year'] != 2021]\n",
    "_, X_train_xgb, y_train_xgb = prepare_features_xgb(df_train)\n",
    "train_xgb_with_grid_search(df_train, X_train_xgb, y_train_xgb, df_validation)"
   ]
  },
  {
   "cell_type": "code",
   "execution_count": 1,
   "id": "ef528f25",
   "metadata": {},
   "outputs": [
    {
     "ename": "NameError",
     "evalue": "name 'X_train' is not defined",
     "output_type": "error",
     "traceback": [
      "\u001b[31m---------------------------------------------------------------------------\u001b[39m",
      "\u001b[31mNameError\u001b[39m                                 Traceback (most recent call last)",
      "\u001b[36mCell\u001b[39m\u001b[36m \u001b[39m\u001b[32mIn[1]\u001b[39m\u001b[32m, line 13\u001b[39m\n\u001b[32m      1\u001b[39m \u001b[38;5;28;01mfrom\u001b[39;00m\u001b[38;5;250m \u001b[39m\u001b[34;01mxgboost\u001b[39;00m\u001b[38;5;250m \u001b[39m\u001b[38;5;28;01mimport\u001b[39;00m XGBClassifier\n\u001b[32m      3\u001b[39m model = XGBClassifier(\n\u001b[32m      4\u001b[39m     max_depth=\u001b[32m6\u001b[39m,\n\u001b[32m      5\u001b[39m     n_estimators=\u001b[32m300\u001b[39m,\n\u001b[32m   (...)\u001b[39m\u001b[32m     10\u001b[39m     eval_metric=\u001b[33m'\u001b[39m\u001b[33mlogloss\u001b[39m\u001b[33m'\u001b[39m\n\u001b[32m     11\u001b[39m )\n\u001b[32m---> \u001b[39m\u001b[32m13\u001b[39m model.fit(\u001b[43mX_train\u001b[49m, y_train)\n\u001b[32m     14\u001b[39m y_pred = model.predict(X_test)\n\u001b[32m     16\u001b[39m \u001b[38;5;66;03m# Evaluate\u001b[39;00m\n",
      "\u001b[31mNameError\u001b[39m: name 'X_train' is not defined"
     ]
    }
   ],
   "source": [
    "from xgboost import XGBClassifier\n",
    "\n",
    "model = XGBClassifier(\n",
    "    max_depth=6,\n",
    "    n_estimators=300,\n",
    "    reg_alpha=1,\n",
    "    reg_lambda=1,\n",
    "    learning_rate=0.1,\n",
    "    use_label_encoder=False,\n",
    "    eval_metric='logloss'\n",
    ")\n",
    "\n",
    "model.fit(X_train, y_train)\n",
    "y_pred = model.predict(X_test)\n",
    "\n",
    "# Evaluate\n",
    "from sklearn.metrics import accuracy_score, classification_report, confusion_matrix\n",
    "\n",
    "print(\"Accuracy:\", accuracy_score(y_test, y_pred))\n",
    "print(confusion_matrix(y_test, y_pred))\n",
    "print(classification_report(y_test, y_pred))"
   ]
  },
  {
   "cell_type": "code",
   "execution_count": null,
   "id": "032084ca",
   "metadata": {},
   "outputs": [],
   "source": []
  }
 ],
 "metadata": {
  "kernelspec": {
   "display_name": "Python 3",
   "language": "python",
   "name": "python3"
  },
  "language_info": {
   "codemirror_mode": {
    "name": "ipython",
    "version": 3
   },
   "file_extension": ".py",
   "mimetype": "text/x-python",
   "name": "python",
   "nbconvert_exporter": "python",
   "pygments_lexer": "ipython3",
   "version": "3.13.4"
  }
 },
 "nbformat": 4,
 "nbformat_minor": 5
}
