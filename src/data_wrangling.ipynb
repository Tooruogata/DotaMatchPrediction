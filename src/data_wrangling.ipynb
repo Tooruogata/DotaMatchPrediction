{
 "cells": [
  {
   "cell_type": "code",
   "execution_count": 10,
   "id": "9c197b32",
   "metadata": {},
   "outputs": [],
   "source": [
    "import pandas as pd\n",
    "import numpy as np\n",
    "import os"
   ]
  },
  {
   "cell_type": "code",
   "execution_count": 11,
   "id": "f5781ff6",
   "metadata": {},
   "outputs": [],
   "source": [
    "# Set base path\n",
    "RAW_DATA_FILE = \"../data/bronze/all_dota_matches.csv\"\n",
    "OUTPUT_FILE = \"../data/silver/data_transformed.csv\""
   ]
  },
  {
   "cell_type": "code",
   "execution_count": 12,
   "id": "37a838c4",
   "metadata": {},
   "outputs": [],
   "source": [
    "def load_data(path):\n",
    "    df = pd.read_csv(path, sep='|'\n",
    "                     #, nrows=1000\n",
    "                     )\n",
    "    df['start_time'] = pd.to_datetime(df['start_time'], unit='s')\n",
    "    df['year'] = df['start_time'].dt.year\n",
    "    df['team_id'] = np.where(df['radiant_win'] == df['win'], df['radiant_team_id'], df['dire_team_id'])\n",
    "    return df\n",
    "\n",
    "def engineer_roles_attributes(df):\n",
    "    role_list = ['Support','Nuker','Initiator','Escape','Durable','Disabler','Carry','Jungler','Pusher']\n",
    "    for role in role_list:\n",
    "        df[role] = df['roles'].str.contains(role).astype(int)\n",
    "\n",
    "    df = pd.get_dummies(df, prefix='attribute', columns=['primary_attr'])\n",
    "    df = pd.get_dummies(df, prefix='attack', columns=['attack_type'])\n",
    "    return df\n",
    "\n",
    "def generate_team_stats(df):\n",
    "    df_teams = df[['year', 'match_id', 'team_id', 'win']].dropna().drop_duplicates()\n",
    "    df_teams = pd.get_dummies(df_teams, prefix='win', columns=['win'])\n",
    "    return df_teams\n",
    "\n",
    "def group_player_level(df):\n",
    "    return df.groupby(\n",
    "        ['win','year','match_id','start_time','account_id','hero_id','name'], as_index=False\n",
    "    ).agg(\n",
    "        duration=('duration','mean'), \n",
    "        sum_support=('Support','sum'), sum_nuker=('Nuker','sum'), sum_initiator=('Initiator','sum'),\n",
    "        sum_escape=('Escape','sum'), sum_durable=('Durable','sum'), sum_disabler=('Disabler','sum'),\n",
    "        sum_carry=('Carry','sum'), sum_jungler=('Jungler','sum'), sum_pusher=('Pusher','sum'),\n",
    "        sum_agi=('attribute_agi','sum'), sum_int=('attribute_int','sum'), sum_str=('attribute_str','sum'),\n",
    "        sum_melee=('attack_Melee','sum'), sum_ranged=('attack_Ranged','sum'),\n",
    "        sum_kills=('kills','sum'), sum_deaths=('deaths','sum'), sum_assists=('assists','sum'),\n",
    "        mean_lasthits=('last_hits','mean'), mean_denies=('denies','mean'),\n",
    "        sum_observers=('observers_placed','sum'), sum_towers=('towers_killed','sum'),\n",
    "        mean_gold_min=('gold_per_min','mean'), mean_exp_min=('xp_per_min','mean')\n",
    "    )\n",
    "\n",
    "def group_match_level(df):\n",
    "    df_grouped = df.groupby(\n",
    "        ['win','year','match_id','start_time'], as_index=False\n",
    "    ).agg(\n",
    "        duration=('duration','mean'), \n",
    "        sum_support=('Support','sum'), sum_nuker=('Nuker','sum'), sum_initiator=('Initiator','sum'),\n",
    "        sum_escape=('Escape','sum'), sum_durable=('Durable','sum'), sum_disabler=('Disabler','sum'),\n",
    "        sum_carry=('Carry','sum'), sum_jungler=('Jungler','sum'), sum_pusher=('Pusher','sum'),\n",
    "        sum_agi=('attribute_agi','sum'), sum_int=('attribute_int','sum'), sum_str=('attribute_str','sum'),\n",
    "        sum_melee=('attack_Melee','sum'), sum_ranged=('attack_Ranged','sum'),\n",
    "        sum_kills=('kills','sum'), sum_deaths=('deaths','sum'), sum_assists=('assists','sum'),\n",
    "        mean_lasthits=('last_hits','mean'), mean_denies=('denies','mean'),\n",
    "        sum_observers=('observers_placed','sum'), sum_towers=('towers_killed','sum'),\n",
    "        mean_gold_min=('gold_per_min','mean'), mean_exp_min=('xp_per_min','mean')\n",
    "    )\n",
    "\n",
    "    # Normalize role, attribute, and type counts by 5 (5 players per team)\n",
    "    total_roles = df_grouped[[col for col in df_grouped.columns if col.startswith('sum_') and col not in ['sum_kills', 'sum_deaths', 'sum_assists', 'sum_observers', 'sum_towers']]]\n",
    "    df_grouped['sum_roles'] = total_roles.sum(axis=1)\n",
    "\n",
    "    for col in total_roles.columns:\n",
    "        df_grouped[col] = df_grouped[col] / df_grouped['sum_roles']\n",
    "\n",
    "    df_grouped['sum_melee'] = df_grouped['sum_melee'] / 5\n",
    "    df_grouped['sum_ranged'] = df_grouped['sum_ranged'] / 5\n",
    "    df_grouped = pd.get_dummies(df_grouped, prefix='win', columns=['win'])\n",
    "\n",
    "    return df_grouped\n",
    "\n",
    "def merge_team_info(df_grouped, df_teams):\n",
    "    return pd.merge(\n",
    "        df_grouped, df_teams, \n",
    "        left_on=['year','match_id','win_False','win_True'],\n",
    "        right_on=['year','match_id','win_False','win_True'], how='left'\n",
    "    )"
   ]
  },
  {
   "cell_type": "code",
   "execution_count": 13,
   "id": "302f96bd",
   "metadata": {},
   "outputs": [
    {
     "name": "stderr",
     "output_type": "stream",
     "text": [
      "/tmp/ipykernel_32852/2750802128.py:2: DtypeWarning: Columns (4,7) have mixed types. Specify dtype option on import or set low_memory=False.\n",
      "  df = pd.read_csv(path, sep='|'\n"
     ]
    }
   ],
   "source": [
    "df = load_data(RAW_DATA_FILE)\n",
    "df = engineer_roles_attributes(df)\n",
    "df_teams = generate_team_stats(df)\n",
    "df_grouped = group_match_level(df)\n",
    "df_final = merge_team_info(df_grouped, df_teams)\n",
    "df_final.to_csv(OUTPUT_FILE, sep='|', index=False)"
   ]
  }
 ],
 "metadata": {
  "kernelspec": {
   "display_name": "Python 3",
   "language": "python",
   "name": "python3"
  },
  "language_info": {
   "codemirror_mode": {
    "name": "ipython",
    "version": 3
   },
   "file_extension": ".py",
   "mimetype": "text/x-python",
   "name": "python",
   "nbconvert_exporter": "python",
   "pygments_lexer": "ipython3",
   "version": "3.13.4"
  }
 },
 "nbformat": 4,
 "nbformat_minor": 5
}
